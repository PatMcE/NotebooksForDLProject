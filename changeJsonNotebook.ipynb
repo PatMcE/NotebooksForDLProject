{
 "cells": [
  {
   "cell_type": "markdown",
   "metadata": {},
   "source": [
    "# Combine JSON"
   ]
  },
  {
   "cell_type": "code",
   "execution_count": null,
   "metadata": {},
   "outputs": [],
   "source": [
    "import json\n",
    "#data 1:\n",
    "with open('train_circles.json') as data_file:    \n",
    "    data1 = json.load(data_file)\n",
    "#data 2:\n",
    "with open('test_circles.json') as data_file:    \n",
    "    data2 = json.load(data_file)\n",
    "    \n",
    "combined_data = data1 + data2\n",
    "with open('combined.json', 'w') as outfile:\n",
    "    json.dump(combined_data, outfile)"
   ]
  },
  {
   "cell_type": "markdown",
   "metadata": {},
   "source": [
    "# Rename Images & JSON"
   ]
  },
  {
   "cell_type": "markdown",
   "metadata": {},
   "source": [
    "## imports"
   ]
  },
  {
   "cell_type": "code",
   "execution_count": null,
   "metadata": {},
   "outputs": [],
   "source": [
    "from PIL import Image\n",
    "import glob\n",
    "import re\n",
    "import json\n",
    "from pathlib import Path\n",
    "import matplotlib.pyplot as plt"
   ]
  },
  {
   "cell_type": "markdown",
   "metadata": {},
   "source": [
    "## rename images"
   ]
  },
  {
   "cell_type": "code",
   "execution_count": null,
   "metadata": {},
   "outputs": [],
   "source": [
    "i = 90\n",
    "for filename in glob.glob('oldImg/*.png'): #images to be renamed put in folder 'oldImg'\n",
    "    img = Image.open(filename)\n",
    "    i += 1\n",
    "    img.save(\"newImg/sq\"+str(i)+\".png\") #renamed images put in folder 'newImg'"
   ]
  },
  {
   "cell_type": "markdown",
   "metadata": {},
   "source": [
    "## rename images in json file"
   ]
  },
  {
   "cell_type": "code",
   "execution_count": null,
   "metadata": {},
   "outputs": [],
   "source": [
    "import json\n",
    "with open('old.json') as my_circles: #call file to be altered 'old.json'\n",
    "    data = json.load(my_circles)\n",
    "    \n",
    "x = 19 #amount image id is to be changed by\n",
    "for item in data:\n",
    "    new_int = ((int(re.match('(sq)(\\d+)', Path(item['sq_id']).stem)[2])))\n",
    "    item['sq_id'] = 'sq'+str(new_int-x)+'.png'\n",
    "    \n",
    "with open(\"new.json\", 'w') as f: #'new.json' will be renamed before running model\n",
    "    json.dump(data, f)"
   ]
  }
 ],
 "metadata": {
  "kernelspec": {
   "display_name": "Python 3",
   "language": "python",
   "name": "python3"
  },
  "language_info": {
   "codemirror_mode": {
    "name": "ipython",
    "version": 3
   },
   "file_extension": ".py",
   "mimetype": "text/x-python",
   "name": "python",
   "nbconvert_exporter": "python",
   "pygments_lexer": "ipython3",
   "version": "3.7.4"
  }
 },
 "nbformat": 4,
 "nbformat_minor": 4
}
