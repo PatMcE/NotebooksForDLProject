{
 "cells": [
  {
   "cell_type": "markdown",
   "metadata": {},
   "source": [
    "## Imports"
   ]
  },
  {
   "cell_type": "code",
   "execution_count": 1,
   "metadata": {},
   "outputs": [],
   "source": [
    "from PIL import Image\n",
    "import glob\n",
    "import json"
   ]
  },
  {
   "cell_type": "markdown",
   "metadata": {},
   "source": [
    "## Create new re-sized images and save them in 'imgNew' folder"
   ]
  },
  {
   "cell_type": "code",
   "execution_count": null,
   "metadata": {},
   "outputs": [],
   "source": [
    "image_list = []\n",
    "resized_images = []\n",
    "image_filenames = []\n",
    "\n",
    "for filename in glob.glob('imgOld/*.png'): #image files to be re-sized to be put in 'imgOld' folder\n",
    "    img = Image.open(filename)\n",
    "    image_list.append(img)\n",
    "    image_filenames.append(filename.replace('Old', 'New'))\n",
    "\n",
    "for image in image_list:\n",
    "    image = image.resize((512,512)) #new images to be 512px by 512px\n",
    "    resized_images.append(image) \n",
    "\n",
    "for (i, new) in enumerate(resized_images):\n",
    "    print(image_filenames[i])\n",
    "    new.save(image_filenames[i])       "
   ]
  },
  {
   "cell_type": "markdown",
   "metadata": {},
   "source": [
    "## Create new json for re-sized images"
   ]
  },
  {
   "cell_type": "code",
   "execution_count": 4,
   "metadata": {},
   "outputs": [],
   "source": [
    "with open('oldJSON.json', 'r') as f: #rename json file to be altered to 'oldJSON.json'\n",
    "    circles = json.load(f)\n",
    "\n",
    "new_list_te = []\n",
    "\n",
    "for j,circles_dict in enumerate(circles):       \n",
    "    new_points = []\n",
    "    for point in circles_dict['points']:\n",
    "        cx = point['cx']\n",
    "        cy = point['cy']\n",
    "        #half x,y and radius values:\n",
    "        new_points.append({'name': 'circle', 'cx': int(cx/2), 'cy': int(cy/2), 'r' : int(point['r']/2)})\n",
    "        \n",
    "        new_list_te.append({'sq_id': circles_dict['sq_id'], 'points': new_points})\n",
    "        \n",
    "with open(\"newJSON.json\", 'w') as f: #output json 'newJSON.json' will be renamed before running model\n",
    "    json.dump(new_list_te, f)"
   ]
  }
 ],
 "metadata": {
  "kernelspec": {
   "display_name": "Python 3",
   "language": "python",
   "name": "python3"
  },
  "language_info": {
   "codemirror_mode": {
    "name": "ipython",
    "version": 3
   },
   "file_extension": ".py",
   "mimetype": "text/x-python",
   "name": "python",
   "nbconvert_exporter": "python",
   "pygments_lexer": "ipython3",
   "version": "3.7.4"
  }
 },
 "nbformat": 4,
 "nbformat_minor": 4
}
